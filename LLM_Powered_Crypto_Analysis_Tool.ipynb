{
  "nbformat": 4,
  "nbformat_minor": 0,
  "metadata": {
    "colab": {
      "provenance": [],
      "gpuType": "T4"
    },
    "kernelspec": {
      "name": "python3",
      "display_name": "Python 3"
    },
    "language_info": {
      "name": "python"
    },
    "accelerator": "GPU"
  },
  "cells": [
    {
      "cell_type": "code",
      "execution_count": 5,
      "metadata": {
        "colab": {
          "base_uri": "https://localhost:8080/",
          "height": 1000
        },
        "id": "Fp3NyIzHtpEq",
        "outputId": "dd3f06e2-611f-46eb-964d-8cecb3acd88e"
      },
      "outputs": [
        {
          "output_type": "stream",
          "name": "stdout",
          "text": [
            "\u001b[31mERROR: pip's dependency resolver does not currently take into account all the packages that are installed. This behaviour is the source of the following dependency conflicts.\n",
            "google-colab 1.0.0 requires pandas==2.2.2, but you have pandas 2.3.2 which is incompatible.\n",
            "thinc 8.3.6 requires numpy<3.0.0,>=2.0.0, but you have numpy 1.26.4 which is incompatible.\n",
            "opencv-contrib-python 4.12.0.88 requires numpy<2.3.0,>=2; python_version >= \"3.9\", but you have numpy 1.26.4 which is incompatible.\n",
            "xarray 2025.9.0 requires packaging>=24.1, but you have packaging 23.2 which is incompatible.\n",
            "dask-cudf-cu12 25.6.0 requires pandas<2.2.4dev0,>=2.0, but you have pandas 2.3.2 which is incompatible.\n",
            "db-dtypes 1.4.3 requires packaging>=24.2.0, but you have packaging 23.2 which is incompatible.\n",
            "gradio 5.46.0 requires typer<1.0,>=0.12, but you have typer 0.9.4 which is incompatible.\n",
            "bigframes 2.21.0 requires google-cloud-bigquery[bqstorage,pandas]>=3.31.0, but you have google-cloud-bigquery 3.30.0 which is incompatible.\n",
            "cudf-cu12 25.6.0 requires pandas<2.2.4dev0,>=2.0, but you have pandas 2.3.2 which is incompatible.\n",
            "opencv-python-headless 4.12.0.88 requires numpy<2.3.0,>=2; python_version >= \"3.9\", but you have numpy 1.26.4 which is incompatible.\n",
            "opencv-python 4.12.0.88 requires numpy<2.3.0,>=2; python_version >= \"3.9\", but you have numpy 1.26.4 which is incompatible.\u001b[0m\u001b[31m\n",
            "\u001b[0mRequirement already satisfied: exa-py in /usr/local/lib/python3.12/dist-packages (1.15.6)\n",
            "Requirement already satisfied: httpx>=0.28.1 in /usr/local/lib/python3.12/dist-packages (from exa-py) (0.28.1)\n",
            "Requirement already satisfied: openai>=1.48 in /usr/local/lib/python3.12/dist-packages (from exa-py) (1.108.0)\n",
            "Requirement already satisfied: pydantic>=2.10.6 in /usr/local/lib/python3.12/dist-packages (from exa-py) (2.11.9)\n",
            "Requirement already satisfied: requests>=2.32.3 in /usr/local/lib/python3.12/dist-packages (from exa-py) (2.32.4)\n",
            "Requirement already satisfied: typing-extensions>=4.12.2 in /usr/local/lib/python3.12/dist-packages (from exa-py) (4.14.1)\n",
            "Requirement already satisfied: anyio in /usr/local/lib/python3.12/dist-packages (from httpx>=0.28.1->exa-py) (4.10.0)\n",
            "Requirement already satisfied: certifi in /usr/local/lib/python3.12/dist-packages (from httpx>=0.28.1->exa-py) (2025.8.3)\n",
            "Requirement already satisfied: httpcore==1.* in /usr/local/lib/python3.12/dist-packages (from httpx>=0.28.1->exa-py) (1.0.9)\n",
            "Requirement already satisfied: idna in /usr/local/lib/python3.12/dist-packages (from httpx>=0.28.1->exa-py) (3.10)\n",
            "Requirement already satisfied: h11>=0.16 in /usr/local/lib/python3.12/dist-packages (from httpcore==1.*->httpx>=0.28.1->exa-py) (0.16.0)\n",
            "Requirement already satisfied: distro<2,>=1.7.0 in /usr/local/lib/python3.12/dist-packages (from openai>=1.48->exa-py) (1.9.0)\n",
            "Requirement already satisfied: jiter<1,>=0.4.0 in /usr/local/lib/python3.12/dist-packages (from openai>=1.48->exa-py) (0.11.0)\n",
            "Requirement already satisfied: sniffio in /usr/local/lib/python3.12/dist-packages (from openai>=1.48->exa-py) (1.3.1)\n",
            "Requirement already satisfied: tqdm>4 in /usr/local/lib/python3.12/dist-packages (from openai>=1.48->exa-py) (4.67.1)\n",
            "Requirement already satisfied: annotated-types>=0.6.0 in /usr/local/lib/python3.12/dist-packages (from pydantic>=2.10.6->exa-py) (0.7.0)\n",
            "Requirement already satisfied: pydantic-core==2.33.2 in /usr/local/lib/python3.12/dist-packages (from pydantic>=2.10.6->exa-py) (2.33.2)\n",
            "Requirement already satisfied: typing-inspection>=0.4.0 in /usr/local/lib/python3.12/dist-packages (from pydantic>=2.10.6->exa-py) (0.4.1)\n",
            "Requirement already satisfied: charset_normalizer<4,>=2 in /usr/local/lib/python3.12/dist-packages (from requests>=2.32.3->exa-py) (3.4.3)\n",
            "Requirement already satisfied: urllib3<3,>=1.21.1 in /usr/local/lib/python3.12/dist-packages (from requests>=2.32.3->exa-py) (2.5.0)\n",
            "Collecting numpy==1.26.0\n",
            "  Downloading numpy-1.26.0-cp312-cp312-manylinux_2_17_x86_64.manylinux2014_x86_64.whl.metadata (58 kB)\n",
            "Requirement already satisfied: pandas in /usr/local/lib/python3.12/dist-packages (2.3.2)\n",
            "Requirement already satisfied: python-dateutil>=2.8.2 in /usr/local/lib/python3.12/dist-packages (from pandas) (2.9.0.post0)\n",
            "Requirement already satisfied: pytz>=2020.1 in /usr/local/lib/python3.12/dist-packages (from pandas) (2025.2)\n",
            "Requirement already satisfied: tzdata>=2022.7 in /usr/local/lib/python3.12/dist-packages (from pandas) (2025.2)\n",
            "Requirement already satisfied: six>=1.5 in /usr/local/lib/python3.12/dist-packages (from python-dateutil>=2.8.2->pandas) (1.17.0)\n",
            "Downloading numpy-1.26.0-cp312-cp312-manylinux_2_17_x86_64.manylinux2014_x86_64.whl (17.9 MB)\n",
            "Installing collected packages: numpy\n",
            "  Attempting uninstall: numpy\n",
            "    Found existing installation: numpy 1.26.4\n",
            "    Uninstalling numpy-1.26.4:\n",
            "      Successfully uninstalled numpy-1.26.4\n",
            "\u001b[31mERROR: pip's dependency resolver does not currently take into account all the packages that are installed. This behaviour is the source of the following dependency conflicts.\n",
            "google-colab 1.0.0 requires pandas==2.2.2, but you have pandas 2.3.2 which is incompatible.\n",
            "thinc 8.3.6 requires numpy<3.0.0,>=2.0.0, but you have numpy 1.26.0 which is incompatible.\n",
            "opencv-contrib-python 4.12.0.88 requires numpy<2.3.0,>=2; python_version >= \"3.9\", but you have numpy 1.26.0 which is incompatible.\n",
            "xarray 2025.9.0 requires packaging>=24.1, but you have packaging 23.2 which is incompatible.\n",
            "dask-cudf-cu12 25.6.0 requires pandas<2.2.4dev0,>=2.0, but you have pandas 2.3.2 which is incompatible.\n",
            "db-dtypes 1.4.3 requires packaging>=24.2.0, but you have packaging 23.2 which is incompatible.\n",
            "gradio 5.46.0 requires typer<1.0,>=0.12, but you have typer 0.9.4 which is incompatible.\n",
            "bigframes 2.21.0 requires google-cloud-bigquery[bqstorage,pandas]>=3.31.0, but you have google-cloud-bigquery 3.30.0 which is incompatible.\n",
            "cudf-cu12 25.6.0 requires pandas<2.2.4dev0,>=2.0, but you have pandas 2.3.2 which is incompatible.\n",
            "opencv-python-headless 4.12.0.88 requires numpy<2.3.0,>=2; python_version >= \"3.9\", but you have numpy 1.26.0 which is incompatible.\n",
            "opencv-python 4.12.0.88 requires numpy<2.3.0,>=2; python_version >= \"3.9\", but you have numpy 1.26.0 which is incompatible.\u001b[0m\u001b[31m\n",
            "\u001b[0mSuccessfully installed numpy-1.26.0\n"
          ]
        },
        {
          "output_type": "display_data",
          "data": {
            "application/vnd.colab-display-data+json": {
              "pip_warning": {
                "packages": [
                  "numpy"
                ]
              },
              "id": "1855015cb6de4db4b8936589ccd1d13a"
            }
          },
          "metadata": {}
        }
      ],
      "source": [
        "!pip -qqq install pip --progress-bar off\n",
        "!pip -qqq install 'crewai[tools]'==0.28.8 --progress-bar off\n",
        "!pip -qqq install langchain-groq==0.1.3 --progress-bar off\n",
        "!pip -qqq install duckduckgo-search==5.3.0 --progress-bar off\n",
        "!pip install exa-py\n",
        "!pip install numpy==1.26.0 pandas --progress-bar off"
      ]
    },
    {
      "cell_type": "code",
      "source": [
        "from exa_py import Exa\n",
        "import requests\n",
        "import pandas as pd\n",
        "import os\n",
        "\n",
        "os.environ[\"GROQ_API_KEY\"] = input(\"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\")"
      ],
      "metadata": {
        "collapsed": true,
        "id": "ACQPzxYEQipe",
        "colab": {
          "base_uri": "https://localhost:8080/"
        },
        "outputId": "bdd72eda-ebdc-4eb5-f3d6-1cc3fda87744"
      },
      "execution_count": 1,
      "outputs": [
        {
          "name": "stdout",
          "output_type": "stream",
          "text": [
            "gsk_dE4FjFrKvzIzejB0RxxKWGdyb3FYAjDfLzgbhSyyYHj9UIzAXS8agsk_dE4FjFrKvzIzejB0RxxKWGdyb3FYAjDfLzgbhSyyYHj9UIzAXS8a\n"
          ]
        }
      ]
    },
    {
      "cell_type": "code",
      "source": [
        "# Initialize Exa API\n",
        "exa = Exa(api_key=\"16058df8-d8fc-4c98-9157-be495ebe9f44\")\n",
        "\n",
        "def get_cryptocurrency_news(query):\n",
        "    result = exa.search_and_contents(query, summary=True)\n",
        "\n",
        "    # Ensure results exist before iterating\n",
        "    if result.results:\n",
        "        news_list = []\n",
        "        for item in result.results:\n",
        "            # Extracting attributes directly from the Result object\n",
        "            news_item = {\n",
        "                \"title\": item.title if hasattr(item, \"title\") else \"No Title\",\n",
        "                \"url\": item.url if hasattr(item, \"url\") else \"#\",  # URL and ID are the same\n",
        "                \"id\": item.id if hasattr(item, \"id\") else \"#\",  # ID is same as URL\n",
        "                \"score\": item.score if hasattr(item, \"score\") else \"No Score\",\n",
        "                \"published_date\": item.published_date if hasattr(item, \"published_date\") else \"Unknown Date\",\n",
        "                \"author\": item.author if hasattr(item, \"author\") else \"Unknown Author\",\n",
        "                \"image\": item.image if hasattr(item, \"image\") else \"No Image\",\n",
        "                \"favicon\": item.favicon if hasattr(item, \"favicon\") else \"No Favicon\",\n",
        "                \"summary\": item.summary if hasattr(item, \"summary\") else \"No Summary\",\n",
        "                \"highlights\": item.highlights if hasattr(item, \"highlights\") else \"No Highlights\",\n",
        "                \"highlight_scores\": item.highlight_scores if hasattr(item, \"highlight_scores\") else \"No Highlight Scores\",\n",
        "            }\n",
        "            news_list.append(news_item)\n",
        "\n",
        "        return news_list\n",
        "    else:\n",
        "        return []  # Return empty list if no results found\n",
        "\n",
        "\n",
        "# Fetch and display news\n",
        "news = get_cryptocurrency_news(\"Bitcoin cryptocurrency\")\n",
        "for article in news[:5]:  # Display top 5 articles\n",
        "    print(f\"Title: {article['title']}\\nURL: {article['url']}\\nID: {article['id']}\\nPublished Date: {article['published_date']}\\nAuthor: {article['author']}\\nImage: {article['image']}\\nFavicon: {article['favicon']}\\nSummary: {article['summary']}\\n\")\n",
        "\n"
      ],
      "metadata": {
        "colab": {
          "base_uri": "https://localhost:8080/"
        },
        "id": "GQNtHQwC-D7i",
        "outputId": "b5b0e027-d10f-4e3a-d097-460ff9074f2c"
      },
      "execution_count": 2,
      "outputs": [
        {
          "output_type": "stream",
          "name": "stdout",
          "text": [
            "Title: Bitcoin - Wikipedia\n",
            "URL: https://en.wikipedia.org/wiki/Bitcoin\n",
            "ID: https://en.wikipedia.org/wiki/Bitcoin\n",
            "Published Date: 2025-04-30T13:19:13.000Z\n",
            "Author: Contributors to Wikimedia projects\n",
            "Image: https://upload.wikimedia.org/wikipedia/commons/thumb/4/46/Bitcoin.svg/640px-Bitcoin.svg.png\n",
            "Favicon: None\n",
            "Summary: Bitcoin (BTC, ₿) is the first decentralized cryptocurrency. It was created in 2008 by Satoshi Nakamoto and is based on a free-market ideology.\n",
            "\n",
            "\n",
            "Title: Making sense of bitcoin, cryptocurrency and blockchain - PwC\n",
            "URL: https://www.pwc.com/us/en/industries/financial-services/fintech/bitcoin-blockchain-cryptocurrency.html\n",
            "ID: https://www.pwc.com/us/en/industries/financial-services/fintech/bitcoin-blockchain-cryptocurrency.html\n",
            "Published Date: 2024-04-11T22:23:00.000Z\n",
            "Author: PricewaterhouseCoopers\n",
            "Image: https://www.pwc.com/us/en/industries/financial-services/images/bitcoin-blockchain-cryptocurrency-properties.jpeg\n",
            "Favicon: https://www.pwc.com/etc.clientlibs/pwc/clientlibs/css_common/resources/image/favicon.ico\n",
            "Summary: Bitcoin is the most recognized cryptocurrency, which is a digital medium of exchange that uses cryptography to verify fund transfers. Blockchain technology enables cryptocurrency and is a decentralized ledger of transactions. Cryptocurrency has no intrinsic value, no physical form, and its supply is determined by its protocol.\n",
            "\n",
            "\n",
            "Title: What is cryptocurrency and how does it work? - Kaspersky\n",
            "URL: https://usa.kaspersky.com/resource-center/definitions/what-is-cryptocurrency\n",
            "ID: https://usa.kaspersky.com/resource-center/definitions/what-is-cryptocurrency\n",
            "Published Date: 2025-04-27T00:00:00.000Z\n",
            "Author: Kaspersky\n",
            "Image: https://content.kaspersky-labs.com/fm/press-releases/e0/e0c122e63ca4199bb2f758617abad50b/processed/cryptocurrencyimage11130490519670x377px300dpi-q75.jpg\n",
            "Favicon: None\n",
            "Summary: Bitcoin, founded in 2009, was the first cryptocurrency and remains the most commonly traded. It was developed by Satoshi Nakamoto, whose identity is unknown. Bitcoin operates on a distributed public ledger called blockchain, a record of all transactions updated and held by currency holders.\n",
            "\n",
            "\n",
            "Title: How does Bitcoin work? - Bitcoin\n",
            "URL: https://bitcoin.org/en/how-it-works\n",
            "ID: https://bitcoin.org/en/how-it-works\n",
            "Published Date: 2025-01-01T00:00:00.000Z\n",
            "Author: \n",
            "Image: https://bitcoin.org/img/icons/opengraph.png?1743181677\n",
            "Favicon: None\n",
            "Summary: This webpage is a guide to Bitcoin, a cryptocurrency. It provides links to resources for new users, including how to get started with Bitcoin, and explains the basics of how it works.\n",
            "\n",
            "\n",
            "Title: Coinbase - Buy and Sell Bitcoin, Ethereum, and more with trust\n",
            "URL: https://www.coinbase.com/\n",
            "ID: https://www.coinbase.com/\n",
            "Published Date: 2024-01-01T00:00:00.000Z\n",
            "Author: \n",
            "Image: None\n",
            "Favicon: data:image/png;base64,iVBORw0KGgoAAAANSUhEUgAAACAAAAAgCAYAAABzenr0AAAACXBIWXMAAAsTAAALEwEAmpwYAAAAAXNSR0IArs4c6QAAAARnQU1BAACxjwv8YQUAAAMTSURBVHgBxVc9bNNAFH6umGDJArMzN1LTBcYkOxLpAiPtDmoqJEbasJWljsRM0pEuTSWY46wspFKZ8QxDvMBq3ue7M2fnzr4mlvpJT/473/vuvXfvvfPIEUmSNPjSZ+mwtFl8lob8HLNELAuWkOXK87yY6gAr9lkClmVyO4zxL60LrJjlLNkcZ9J6RngW5T5fZiTMnCH8QTS/EdfoN8sv8b7xgH3CI3eaRPs9cV9AxNJjt0SVBFg5/HupK4fC4WdxdUF3m+j4OV9bKyT2mMTCSqC48viPUBx8pbUweCqIwEIaiZwlPE05/PRdKYd59z5wWP+kjdBmt1y+5Ukf5Ujsql2ypY09Jm3ldSgHMAfmwpwSvtRFGQFp+oF6CbPXoVwnMbzIvRqoLepJAhO+vMT99BszPi2fED5FoKloX0QiQLVVGjEb5gJzxG4YeNL3S/V2942Y0IZDDqyTfGClQMxMQmE9G0B69j57RAw04YK+egNTlSkfv+IdcbCqHECQgRjG2AArhTfZY5raQaCr3pzP7D9jOyHJVAFjsP1smOdzSQcEdtSTbfVYsYtyhXTv3zd/KySz9j3SMp4t8uE7bR9XAoTHr81BWXCfDwJZoYj/mic05PZK9B87DWts0R0DFsB2SK0AM6sKp6NsZ9iAfGJzgWadGAQiEh0O+Q/NBFSSMW0/E9I6YklmiCeNQAQXXGcfW+af0qp4Qc44D+3fQEDDAgSy4Z1t+4/Bl/I8kSnnMScl2fDZk9xjCAJTEnGQsuuWkNj/KFKtyU2w0tEnMcYGvX5IXKliFPDlMKXE/u69o1LUVIwmXIwOFAFMlaWho7EweZ1AEUMd0dBEZ5TmAdkijdQXpNJ1ko8N6IpQqDSMVFtW3pKdrpcDisqLLRkrb6qHLBPKHg0lJ8IzfkDtLqtsVYDZ4fdCP5gra85tOSLc1RppW/5iZUdFVNWWayR8MhxMUC3R9VzLxkVFPVaILNppWbcyjzYfTKyQR7Mg2RxB2dHMhQgOp5PkdlhKxX7V/B45Ivl/PO+S6KJ8Mh/P5yxT1+P5Pz0KKcNHhU/1AAAAAElFTkSuQmCC\n",
            "Summary: Coinbase is a platform where you can buy, sell, and manage cryptocurrencies like Bitcoin and Ethereum. You can sign up and potentially get up to $200 in crypto. Coinbase also offers advanced trading tools, a membership program (Coinbase One) with zero trading fees, and a wallet for storing your crypto.\n",
            "\n",
            "\n"
          ]
        }
      ]
    },
    {
      "cell_type": "code",
      "source": [
        "def get_daily_closing_prices(ticker) -> pd.DataFrame:\n",
        "    api_key = \"V8BGDDP423MZD7BJ\"\n",
        "    url = f\"https://www.alphavantage.co/query?function=DIGITAL_CURRENCY_DAILY&symbol={ticker}&market=USD&apikey={api_key}\"\n",
        "    response = requests.get(url)\n",
        "    data = response.json()\n",
        "    price_data = data[\"Time Series (Digital Currency Daily)\"]\n",
        "    daily_close_prices = {\n",
        "        date: prices[\"4. close\"] for (date, prices) in price_data.items()\n",
        "    }\n",
        "\n",
        "    df = pd.DataFrame.from_dict(daily_close_prices, orient=\"index\", columns=[\"price\"])\n",
        "    df.index = pd.to_datetime(df.index)\n",
        "    df[\"price\"] = pd.to_numeric(df[\"price\"])\n",
        "\n",
        "    return df\n",
        "\n",
        "def format_prices(price_df: pd.DataFrame) -> str:\n",
        "    \"\"\"Format the daily closing prices.\"\"\"\n",
        "    text_output = [\n",
        "        f\"{date.strftime('%Y-%m-%d')} - {row['price']:.2f}\"\n",
        "        for date, row in price_df.head(10).iterrows()\n",
        "    ]\n",
        "    return \"\\n\".join(text_output)\n",
        "\n",
        "# Fetch and format Bitcoin price data\n",
        "price_df = get_daily_closing_prices(\"BTC\")\n",
        "formatted_prices = format_prices(price_df)\n",
        "print(\"\\nBitcoin Daily Closing Prices:\\n\", formatted_prices)"
      ],
      "metadata": {
        "colab": {
          "base_uri": "https://localhost:8080/"
        },
        "id": "dqJkWeLTNKnO",
        "outputId": "725842f5-f5ba-4a0b-c76b-255365589313"
      },
      "execution_count": 3,
      "outputs": [
        {
          "output_type": "stream",
          "name": "stdout",
          "text": [
            "\n",
            "Bitcoin Daily Closing Prices:\n",
            " 2025-09-24 - 112293.99\n",
            "2025-09-23 - 112017.21\n",
            "2025-09-22 - 112736.59\n",
            "2025-09-21 - 115282.27\n",
            "2025-09-20 - 115752.40\n",
            "2025-09-19 - 115690.55\n",
            "2025-09-18 - 117117.99\n",
            "2025-09-17 - 116484.40\n",
            "2025-09-16 - 116832.56\n",
            "2025-09-15 - 115381.08\n"
          ]
        }
      ]
    },
    {
      "cell_type": "markdown",
      "source": [
        "#Tools"
      ],
      "metadata": {
        "id": "CgXurXIfPX4d"
      }
    },
    {
      "cell_type": "code",
      "source": [
        "from crewai_tools import tool\n",
        "from langchain.agents import load_tools"
      ],
      "metadata": {
        "id": "mwa7jgKVPS9m"
      },
      "execution_count": 4,
      "outputs": []
    },
    {
      "cell_type": "code",
      "source": [
        "human_tools = load_tools([\"human\"])"
      ],
      "metadata": {
        "id": "xuNnxVaDUd4j"
      },
      "execution_count": 5,
      "outputs": []
    },
    {
      "cell_type": "code",
      "source": [
        "@tool(\"search_tool\")\n",
        "def search_tool(query: str) -> str:\n",
        "    \"\"\"Search for the latest news and provide a summary about a given query using Exa.\"\"\"\n",
        "    # Perform the search and fetch the results\n",
        "    result = exa.search_and_contents(query, summary=True)\n",
        "\n",
        "    # Ensure results exist before processing\n",
        "    if result.results:\n",
        "        news_list = []\n",
        "        for item in result.results:\n",
        "            # Extracting attributes directly from the Result object\n",
        "            news_item = {\n",
        "                \"title\": item.title if hasattr(item, \"title\") else \"No Title\",\n",
        "                \"url\": item.url if hasattr(item, \"url\") else \"#\",  # URL and ID are the same\n",
        "                \"id\": item.id if hasattr(item, \"id\") else \"#\",  # ID is same as URL\n",
        "                \"score\": item.score if hasattr(item, \"score\") else \"No Score\",\n",
        "                \"published_date\": item.published_date if hasattr(item, \"published_date\") else \"Unknown Date\",\n",
        "                \"author\": item.author if hasattr(item, \"author\") else \"Unknown Author\",\n",
        "                \"image\": item.image if hasattr(item, \"image\") else \"No Image\",\n",
        "                \"favicon\": item.favicon if hasattr(item, \"favicon\") else \"No Favicon\",\n",
        "                \"summary\": item.summary if hasattr(item, \"summary\") else \"No Summary\",\n",
        "                \"highlights\": item.highlights if hasattr(item, \"highlights\") else \"No Highlights\",\n",
        "                \"highlight_scores\": item.highlight_scores if hasattr(item, \"highlight_scores\") else \"No Highlight Scores\",\n",
        "            }\n",
        "            news_list.append(news_item)\n",
        "\n",
        "        # Format the news items into a readable string\n",
        "        output = []\n",
        "        for news_item in news_list:\n",
        "            output.append(f\"Title: {news_item['title']}\\nURL: {news_item['url']}\\nSummary: {news_item['summary']}\\n\")\n",
        "\n",
        "        return \"\\n\".join(output)\n",
        "    else:\n",
        "        return \"No results found.\""
      ],
      "metadata": {
        "id": "tvPsL1OSRvu-"
      },
      "execution_count": 6,
      "outputs": []
    },
    {
      "cell_type": "code",
      "source": [
        "@tool(\"price tool\")\n",
        "def cryptocurrency_price_tool(ticker_symbol: str) -> str:\n",
        "    \"\"\"Get daily closing price for a given cryptocurrency ticker symbol for the previous 60 days\"\"\"\n",
        "    price_df = get_daily_closing_prices(ticker_symbol)\n",
        "    text_output = []\n",
        "    for date, row in price_df.head(60).iterrows():\n",
        "        text_output.append(f\"{date.strftime('%Y-%m-%d')} - {row['price']:.2f}\")\n",
        "    return \"\\n\".join(text_output)\n"
      ],
      "metadata": {
        "id": "pJP2z1_EM9OH"
      },
      "execution_count": 7,
      "outputs": []
    },
    {
      "cell_type": "code",
      "source": [
        "@tool(\"search tool\")\n",
        "def cryptocurrency_news_tool(ticker_symbol: str) -> str:\n",
        "    \"\"\"Get news for a given cryptocurrency ticker symbol\"\"\"\n",
        "    return search_tool.run(ticker_symbol + \" cryptocurrency\")"
      ],
      "metadata": {
        "id": "vFIq3bPEM_vU"
      },
      "execution_count": 8,
      "outputs": []
    },
    {
      "cell_type": "markdown",
      "source": [
        "#Llama 3 with Groq"
      ],
      "metadata": {
        "id": "Mhkhj5DKQPnV"
      }
    },
    {
      "cell_type": "code",
      "source": [
        "from langchain_core.prompts import ChatPromptTemplate\n",
        "from langchain_groq import ChatGroq"
      ],
      "metadata": {
        "id": "uNEtCDFcQOOA"
      },
      "execution_count": 9,
      "outputs": []
    },
    {
      "cell_type": "code",
      "source": [
        "# Llama 3 with Groq for inference\n",
        "llm = ChatGroq(temperature=0, model_name=\"llama-3.1-8b-instant\")\n",
        "\n",
        "system_message = \"You are an experienced Machine Learning & AI Engineer.\"\n",
        "human_message = \"How to increase inference speed for a 7B LLM?\"\n",
        "prompt = ChatPromptTemplate.from_messages([(\"system\", system_message), (\"human\", human_message)])\n",
        "\n",
        "chain = prompt | llm\n",
        "response = chain.invoke({\"text\": human_message})\n",
        "\n",
        "print(\"\\nLLM Response:\\n\", response.content)"
      ],
      "metadata": {
        "colab": {
          "base_uri": "https://localhost:8080/"
        },
        "id": "nXSfPMElG1kW",
        "outputId": "e5b993f3-7f96-4c98-9352-7624320cabab"
      },
      "execution_count": 13,
      "outputs": [
        {
          "output_type": "stream",
          "name": "stdout",
          "text": [
            "\n",
            "LLM Response:\n",
            " Increasing inference speed for a 7B Large Language Model (LLM) involves several techniques that can be applied at different levels of the model architecture, hardware, and software. Here are some strategies to improve inference speed:\n",
            "\n",
            "**Model-level optimizations**\n",
            "\n",
            "1. **Knowledge Distillation**: Train a smaller student model to mimic the behavior of the larger teacher model. This can reduce the model size and improve inference speed.\n",
            "2. **Pruning**: Remove unnecessary weights and connections from the model to reduce its size and computational requirements.\n",
            "3. **Quantization**: Reduce the precision of model weights and activations from 32-bit floating-point to 8-bit or 16-bit integers, which can speed up computations.\n",
            "4. **Model parallelism**: Split the model into smaller parts and process them in parallel on multiple GPUs or TPUs.\n",
            "\n",
            "**Hardware-level optimizations**\n",
            "\n",
            "1. **GPU/TPU acceleration**: Use specialized hardware like NVIDIA GPUs or Google TPUs, which are designed for deep learning computations and can provide significant speedups.\n",
            "2. **Multi-GPU/TPU training**: Train the model on multiple GPUs or TPUs in parallel to reduce training time.\n",
            "3. **High-bandwidth memory**: Use high-bandwidth memory like HBM or GDDR6 to reduce memory access latency.\n",
            "4. **Custom hardware**: Design custom hardware like ASICs or FPGAs to accelerate specific components of the model.\n",
            "\n",
            "**Software-level optimizations**\n",
            "\n",
            "1. **Optimized frameworks**: Use optimized deep learning frameworks like TensorFlow, PyTorch, or JAX, which provide built-in support for model parallelism, quantization, and other optimizations.\n",
            "2. **Just-In-Time (JIT) compilation**: Compile the model into machine code at runtime to eliminate interpretation overhead.\n",
            "3. **Cache optimization**: Optimize the model's memory access patterns to minimize cache misses and improve performance.\n",
            "4. **Batching**: Process multiple inputs in a single batch to reduce overhead and improve throughput.\n",
            "\n",
            "**7B LLM-specific optimizations**\n",
            "\n",
            "1. **Sparse attention**: Implement sparse attention mechanisms to reduce the computational requirements of attention layers.\n",
            "2. **Efficient attention**: Use efficient attention mechanisms like linear attention or sparse attention to reduce the number of computations.\n",
            "3. **Layer-wise parallelism**: Process layers in parallel to reduce the overall inference time.\n",
            "4. **Mixed precision training**: Train the model in mixed precision (e.g., 16-bit and 32-bit) to reduce memory usage and improve performance.\n",
            "\n",
            "**Additional tips**\n",
            "\n",
            "1. **Profile and optimize**: Profile the model's performance and identify bottlenecks to optimize.\n",
            "2. **Use a warm-up phase**: Run a warm-up phase to initialize the model's weights and activations before inference.\n",
            "3. **Monitor and adjust**: Monitor the model's performance and adjust the optimizations as needed.\n",
            "\n",
            "By applying these techniques, you can significantly improve the inference speed of your 7B LLM and make it more suitable for real-world applications.\n"
          ]
        }
      ]
    },
    {
      "cell_type": "markdown",
      "source": [
        "#Agents"
      ],
      "metadata": {
        "id": "yLtSBJYxNYaI"
      }
    },
    {
      "cell_type": "code",
      "source": [
        "from crewai import Agent, Crew, Process, Task"
      ],
      "metadata": {
        "colab": {
          "base_uri": "https://localhost:8080/"
        },
        "id": "PzxoHFsgPrEb",
        "outputId": "a0e9f8ee-9a3b-49f3-a157-3554c95b242a"
      },
      "execution_count": 14,
      "outputs": [
        {
          "output_type": "stream",
          "name": "stderr",
          "text": [
            "/usr/local/lib/python3.12/dist-packages/pydantic/_internal/_generate_schema.py:918: UserWarning: Mixing V1 models and V2 models (or constructs, like `TypeAdapter`) is not supported. Please upgrade `CrewAgentExecutor` to V2.\n",
            "  warn(\n"
          ]
        }
      ]
    },
    {
      "cell_type": "code",
      "source": [
        "customer_communicator = Agent(\n",
        "    role=\"Senior cryptocurrency customer communicator\",\n",
        "    goal=\"Find which cryptocurrency the customer is interested in\",\n",
        "    backstory=\"\"\"You're highly experienced in communicating about cryptocurrencies\n",
        "    and blockchain technology with customers and their research needs\"\"\",\n",
        "    verbose=True,\n",
        "    allow_delegation=False,\n",
        "    llm=llm,\n",
        "    max_iter=5,\n",
        "    memory=True,\n",
        "    tools=human_tools,\n",
        ")\n"
      ],
      "metadata": {
        "id": "IfiGJP7EMy8h"
      },
      "execution_count": 15,
      "outputs": []
    },
    {
      "cell_type": "code",
      "source": [
        "news_analyst = Agent(\n",
        "    role=\"Cryptocurrency News Analyst\",\n",
        "    goal=\"\"\"Get news for a given cryptocurrency. Write 1 paragraph analysis of\n",
        "    the market and make prediction - up, down or neutral.\"\"\",\n",
        "    backstory=\"\"\"You're an expert analyst of trends based on cryptocurrency news.\n",
        "    You have a complete understanding of macroeconomic factors, but you specialize\n",
        "    into analyzing news.\n",
        "    \"\"\",\n",
        "    verbose=True,\n",
        "    allow_delegation=False,\n",
        "    llm=llm,\n",
        "    max_iter=5,\n",
        "    memory=True,\n",
        "    tools=[cryptocurrency_news_tool],\n",
        ")"
      ],
      "metadata": {
        "id": "JarhKKAaNfmg"
      },
      "execution_count": 16,
      "outputs": []
    },
    {
      "cell_type": "code",
      "source": [
        "price_analyst = Agent(\n",
        "    role=\"Cryptocurrency Price Analyst\",\n",
        "    goal=\"\"\"Get historical prices for a given cryptocurrency. Write 1 paragraph analysis of\n",
        "    the market and make prediction - up, down or neutral.\"\"\",\n",
        "    backstory=\"\"\"You're an expert analyst of trends based on cryptocurrency\n",
        "    historical prices. You have a complete understanding of macroeconomic factors,\n",
        "    but you specialize into technical analys based on historical prices.\n",
        "    \"\"\",\n",
        "    verbose=True,\n",
        "    allow_delegation=False,\n",
        "    llm=llm,\n",
        "    max_iter=5,\n",
        "    memory=True,\n",
        "    tools=[cryptocurrency_price_tool],\n",
        ")"
      ],
      "metadata": {
        "id": "HdO3cJTiNgM0"
      },
      "execution_count": 17,
      "outputs": []
    },
    {
      "cell_type": "code",
      "source": [
        "writer = Agent(\n",
        "    role=\"Cryptocurrency Report Writer\",\n",
        "    goal=\"\"\"Write 1 paragraph report of the cryptocurrency market.\"\"\",\n",
        "    backstory=\"\"\"\n",
        "    You're widely accepted as the best cryptocurrency analyst that\n",
        "    understands the market and have tracked every asset for more than 10 years. Your trends\n",
        "    analysis are always extremely accurate.\n",
        "\n",
        "    You're also master level analyst in the traditional markets and have deep understanding\n",
        "    of human psychology. You understand macro factors and combine those multiple\n",
        "    theories - e.g. cycle theory. You're able to hold multiple opininons when analysing anything.\n",
        "\n",
        "    You understand news and historical prices, but you look at those with a\n",
        "    healthy dose of skepticism. You also consider the source of news articles.\n",
        "\n",
        "    Your most well developed talent is providing clear and concise summarization\n",
        "    that explains very complex market topics in simple to understand terms.\n",
        "\n",
        "    Some of your writing techniques include:\n",
        "\n",
        "    - Creating a bullet list (executive summary) of the most importannt points\n",
        "    - Distill complex analyses to their most important parts\n",
        "\n",
        "    You writing transforms even dry and most technical texts into\n",
        "    a pleasant and interesting read.\"\"\",\n",
        "    llm=llm,\n",
        "    verbose=True,\n",
        "    max_iter=5,\n",
        "    memory=True,\n",
        "    allow_delegation=False,\n",
        ")\n"
      ],
      "metadata": {
        "id": "6lKovMAENiUL"
      },
      "execution_count": 18,
      "outputs": []
    },
    {
      "cell_type": "markdown",
      "source": [
        "#Tasks"
      ],
      "metadata": {
        "id": "dUedi7FpNoPn"
      }
    },
    {
      "cell_type": "code",
      "source": [
        "get_cryptocurrency = Task(\n",
        "    description=f\"Ask which cryptocurrency the customer is interested in.\",\n",
        "    expected_output=\"\"\"Cryptocurrency symbol that the human wants you to research e.g. BTC.\"\"\",\n",
        "    agent=customer_communicator,\n",
        ")"
      ],
      "metadata": {
        "id": "BrZ2eItpNqjx"
      },
      "execution_count": 19,
      "outputs": []
    },
    {
      "cell_type": "code",
      "source": [
        "from datetime import datetime\n",
        "\n",
        "get_news_analysis = Task(\n",
        "    description=f\"\"\"\n",
        "    Use the search tool to get news for the cryptocurrency\n",
        "\n",
        "    The current date is {datetime.now()}.\n",
        "\n",
        "    Compose the results into a helpful report\"\"\",\n",
        "    expected_output=\"\"\"Create 1 paragraph report for the cryptocurrency,\n",
        "    along with a prediction for the future trend\n",
        "    \"\"\",\n",
        "    agent=news_analyst,\n",
        "    context=[get_cryptocurrency],\n",
        ")"
      ],
      "metadata": {
        "id": "XaEMe5PqNs8F"
      },
      "execution_count": 20,
      "outputs": []
    },
    {
      "cell_type": "code",
      "source": [
        "get_price_analysis = Task(\n",
        "    description=f\"\"\"\n",
        "    Use the price tool to get historical prices\n",
        "\n",
        "    The current date is {datetime.now()}.\n",
        "\n",
        "    Compose the results into a helpful report\"\"\",\n",
        "    expected_output=\"\"\"Create 1 paragraph summary for the cryptocurrency,\n",
        "    along with a prediction for the future trend\n",
        "    \"\"\",\n",
        "    agent=price_analyst,\n",
        "    context=[get_cryptocurrency],\n",
        ")"
      ],
      "metadata": {
        "id": "EKQ95UpYNutE"
      },
      "execution_count": 21,
      "outputs": []
    },
    {
      "cell_type": "code",
      "source": [
        "write_report = Task(\n",
        "    description=f\"\"\"Use the reports from the news analyst and the price analyst to\n",
        "    create a report that summarizes the cryptocurrency\"\"\",\n",
        "    expected_output=\"\"\"1 paragraph report that summarizes the market and\n",
        "    predicts the future prices (trend) for the cryptocurrency\"\"\",\n",
        "    agent=writer,\n",
        "    context=[get_news_analysis, get_price_analysis],\n",
        ")"
      ],
      "metadata": {
        "id": "DM_R2aPZNziu"
      },
      "execution_count": 22,
      "outputs": []
    },
    {
      "cell_type": "markdown",
      "source": [
        "#Crew"
      ],
      "metadata": {
        "id": "a-IMxQ_bN2tk"
      }
    },
    {
      "cell_type": "code",
      "source": [
        "crew = Crew(\n",
        "    agents=[customer_communicator, price_analyst, news_analyst, writer],\n",
        "    tasks=[get_cryptocurrency, get_news_analysis, get_price_analysis, write_report],\n",
        "    verbose=2,\n",
        "    process=Process.sequential,\n",
        "    full_output=True,\n",
        "    share_crew=False,\n",
        "    manager_llm=llm,\n",
        "    max_iter=15,\n",
        ")"
      ],
      "metadata": {
        "id": "yMY3_6B7N5qG"
      },
      "execution_count": 23,
      "outputs": []
    },
    {
      "cell_type": "code",
      "source": [
        "results = crew.kickoff()"
      ],
      "metadata": {
        "colab": {
          "base_uri": "https://localhost:8080/"
        },
        "id": "797keZLhN-jF",
        "outputId": "85b63a13-6a88-4fed-d70e-ff21bf13ccc0"
      },
      "execution_count": 24,
      "outputs": [
        {
          "output_type": "stream",
          "name": "stdout",
          "text": [
            "\u001b[1m\u001b[95m [DEBUG]: == Working Agent: Senior cryptocurrency customer communicator\u001b[00m\n",
            "\u001b[1m\u001b[95m [INFO]: == Starting Task: Ask which cryptocurrency the customer is interested in.\u001b[00m\n",
            "\n",
            "\n",
            "\u001b[1m> Entering new CrewAgentExecutor chain...\u001b[0m\n",
            "\u001b[32;1m\u001b[1;3mThought: I need to start by asking the customer which cryptocurrency they are interested in.\n",
            "\n",
            "Action: John\n",
            "Action Input: {\"question\": \"Which cryptocurrency are you interested in?\"}\u001b[0m\u001b[91m \n",
            "\n",
            "Action 'John' don't exist, these are the only available Actions: human: You can ask a human for guidance when you think you got stuck or you are not sure what to do next. The input should be a question for the human.\n",
            "\u001b[00m\n",
            "\u001b[32;1m\u001b[1;3mThought: I need to start by asking the customer which cryptocurrency they are interested in.\n",
            "\n",
            "Action: human\n",
            "Action Input: {\"question\": \"Which cryptocurrency are you interested in?\"}\u001b[0m\n",
            "\n",
            "Which cryptocurrency are you interested in?\n",
            "bitcoin\n",
            "\u001b[95m \n",
            "\n",
            "bitcoin\n",
            "\u001b[00m\n",
            "\u001b[32;1m\u001b[1;3mThought: The customer has responded with \"bitcoin\", but I need to confirm if they are referring to the cryptocurrency or the company.\n",
            "\n",
            "Action: human\n",
            "Action Input: {\"question\": \"Are you referring to the cryptocurrency Bitcoin (BTC) or the company behind it?\"}\u001b[0m\n",
            "\n",
            "Are you referring to the cryptocurrency Bitcoin (BTC) or the company behind it?\n",
            "yes\n",
            "\u001b[95m \n",
            "\n",
            "yes\n",
            "\u001b[00m\n",
            "\u001b[32;1m\u001b[1;3mThought: I now know the final answer\n",
            "Final Answer: BTC\u001b[0m\n",
            "\n",
            "\u001b[1m> Finished chain.\u001b[0m\n",
            "\u001b[1m\u001b[92m [DEBUG]: == [Senior cryptocurrency customer communicator] Task output: BTC\n",
            "\n",
            "\u001b[00m\n",
            "\u001b[1m\u001b[95m [DEBUG]: == Working Agent: Cryptocurrency News Analyst\u001b[00m\n",
            "\u001b[1m\u001b[95m [INFO]: == Starting Task: \n",
            "    Use the search tool to get news for the cryptocurrency\n",
            "\n",
            "    The current date is 2025-09-24 21:15:38.853208.\n",
            "\n",
            "    Compose the results into a helpful report\u001b[00m\n",
            "\n",
            "\n",
            "\u001b[1m> Entering new CrewAgentExecutor chain...\u001b[0m\n",
            "\u001b[32;1m\u001b[1;3mThought: I need to get the latest news for BTC to analyze the market trend.\n",
            "\n",
            "Action: search_tool\n",
            "Action Input: {\"ticker_symbol\": \"BTC\"}\u001b[0m\u001b[91m \n",
            "\n",
            "Action 'search_tool' don't exist, these are the only available Actions: search tool: search tool(ticker_symbol: 'string') - Get news for a given cryptocurrency ticker symbol\n",
            "\u001b[00m\n",
            "\u001b[32;1m\u001b[1;3mThought: I need to get the latest news for BTC to analyze the market trend.\n",
            "Action: search tool\n",
            "Action Input: {\"ticker_symbol\": \"BTC\"}\u001b[0mUsing Tool: search_tool\n",
            "\u001b[95m \n",
            "\n",
            "Title: Why Bitcoin whales sold $16bn: ‘It’s not a good signal for the market’\n",
            "URL: https://www.dlnews.com/articles/markets/bitcoin-whales-sell-16bn-in-troubling-signal-expert-says/\n",
            "Summary: Bitcoin whales have sold over $16 billion worth of Bitcoin in the past month, the fastest rate since the last halving event in 2024. This selling activity, often by entities holding over 1,000 Bitcoin, is considered a negative signal for the market, according to experts. Possible reasons for the sell-off include funding treasury companies and the cyclical nature of Bitcoin's price movements. Despite the selling, Bitcoin's price remains relatively stable, trading around $113,500.\n",
            "\n",
            "\n",
            "Title: How does Bitcoin work? - Bitcoin\n",
            "URL: https://bitcoin.org/en/how-it-works\n",
            "Summary: This webpage is a guide to Bitcoin, a cryptocurrency. It provides links to resources for new users, including how to get started with Bitcoin. It also has links to information about Bitcoin for individuals, businesses, and developers.\n",
            "\n",
            "\n",
            "Title: Learning Portal | Blockchain.com\n",
            "URL: https://www.blockchain.com/learning-portal/bitcoin-faq\n",
            "Summary: This webpage is a learning portal on Blockchain.com that provides beginner guides, practical tips, and market updates. It offers information on buying, selling, and swapping cryptocurrencies like Bitcoin (BTC), Ethereum, and Dogecoin. The portal also includes guides on using the Blockchain.com wallet and DEX aggregator.\n",
            "\n",
            "\n",
            "Title: What is Bitcoin (BTC)? What is \"Digital Gold\" Used For?\n",
            "URL: https://www.coinjar.com/learn/what-is-bitcoin\n",
            "Summary: Bitcoin (BTC) is a digital cryptocurrency that operates independently of central banks and governments, using a peer-to-peer model supported by blockchain technology. Created in 2009 by Satoshi Nakamoto, it was the first cryptocurrency and remains the most valuable, with the highest market capitalization. BTC transactions are recorded on a public blockchain, and BTC can be used to buy goods and services from merchants.\n",
            "\n",
            "\n",
            "Title: What Is Bitcoin?\n",
            "URL: https://coinmarketcap.com/academy/article/what-is-bitcoin\n",
            "Summary: Bitcoin (BTC) is a cryptocurrency, a digital or virtual currency that uses cryptography for security. It operates on a blockchain, a decentralized ledger maintained by a global network of computers, making it censorship-resistant. Users can acquire Bitcoin through mining or by buying it on a cryptocurrency exchange.\n",
            "\n",
            "\n",
            "Title: Bitcoin Price Prediction 2025-2030 | Is BTC a Good Investment?\n",
            "URL: https://captainaltcoin.com/bitcoin-btc-price-prediction/\n",
            "Summary: This article provides Bitcoin (BTC) price predictions from 2025 to 2030. The predictions are: $547,892.52 in 2025, $622,679.85 in 2026, $787,047.60 in 2027, $951,415.36 in 2028, $1,115,783.11 in 2029, and $1,177,968.91 by 2030. The article also notes Bitcoin's potential as a decentralized currency, its market dominance, and the commitment of long-term investors, while also acknowledging its volatility.\n",
            "\n",
            "\n",
            "Title: Bitcoin (BTC): Everything to Know — Crypto.com\n",
            "URL: https://crypto.com/en/bitcoin\n",
            "Summary: Bitcoin (BTC) is the world's leading digital currency, launched in 2009 and operating independently of central authorities. It uses blockchain technology to record transactions, offering benefits like fast, low-cost international transfers and financial inclusivity.\n",
            "\n",
            "\n",
            "Title: Bitcoin price today, BTC to USD live price, marketcap and chart\n",
            "URL: https://coinmarketcap.com/currencies/bitcoin/\n",
            "Summary: This webpage provides information about Bitcoin (BTC) on CoinMarketCap. It includes a price chart, statistics, and links to various resources such as market overview, news, and educational materials. The current price of Bitcoin is displayed, along with its 1-day percentage change.\n",
            "\n",
            "\n",
            "Title: CoinDesk Bitcoin Price Index (XBX) - BTCUSD - MarketWatch\n",
            "URL: https://www.marketwatch.com/investing/cryptocurrency/btcusd\n",
            "Summary: I am sorry, but the provided text does not contain any information about BTC cryptocurrency. The page appears to be a general market overview with links to various financial data, including crypto, but no specific details on BTC.\n",
            "\n",
            "\n",
            "Title: ATM Operator Athena Bitcoin Accused of Stealing Copyrighted Source Code\n",
            "URL: https://decrypt.co/341169/atm-operator-athena-bitcoin-accused-stealing-copyrighted-source-code\n",
            "Summary: Athena Bitcoin, a Bitcoin ATM operator, is being sued by AML Software for allegedly trying to steal its source code. The lawsuit claims copyright infringement and misappropriation of trade secrets. Athena is also facing allegations of profiting from scams.\n",
            "\n",
            "\n",
            "\u001b[00m\n",
            "\u001b[32;1m\u001b[1;3mThought: I now know the final answer\n",
            "Final Answer: \n",
            "\n",
            "The current market trend for Bitcoin (BTC) appears to be bearish, with whales selling over $16 billion worth of Bitcoin in the past month, the fastest rate since the last halving event in 2024. This selling activity is considered a negative signal for the market, according to experts. Despite the selling, Bitcoin's price remains relatively stable, trading around $113,500. However, the recent lawsuit against Athena Bitcoin, a Bitcoin ATM operator, for allegedly stealing copyrighted source code may also have a negative impact on the market. Considering these factors, I predict a downward trend for Bitcoin in the near future.\u001b[0m\n",
            "\n",
            "\u001b[1m> Finished chain.\u001b[0m\n",
            "\u001b[1m\u001b[92m [DEBUG]: == [Cryptocurrency News Analyst] Task output: The current market trend for Bitcoin (BTC) appears to be bearish, with whales selling over $16 billion worth of Bitcoin in the past month, the fastest rate since the last halving event in 2024. This selling activity is considered a negative signal for the market, according to experts. Despite the selling, Bitcoin's price remains relatively stable, trading around $113,500. However, the recent lawsuit against Athena Bitcoin, a Bitcoin ATM operator, for allegedly stealing copyrighted source code may also have a negative impact on the market. Considering these factors, I predict a downward trend for Bitcoin in the near future.\n",
            "\n",
            "\u001b[00m\n",
            "\u001b[1m\u001b[95m [DEBUG]: == Working Agent: Cryptocurrency Price Analyst\u001b[00m\n",
            "\u001b[1m\u001b[95m [INFO]: == Starting Task: \n",
            "    Use the price tool to get historical prices\n",
            "\n",
            "    The current date is 2025-09-24 21:15:39.836843.\n",
            "\n",
            "    Compose the results into a helpful report\u001b[00m\n",
            "\n",
            "\n",
            "\u001b[1m> Entering new CrewAgentExecutor chain...\u001b[0m\n",
            "\u001b[32;1m\u001b[1;3mThought: I need to get the historical prices for BTC to analyze the market trend.\n",
            "Action: price tool\n",
            "Action Input: {\"ticker_symbol\": \"BTC\"}\u001b[0m\u001b[95m \n",
            "\n",
            "2025-09-24 - 112293.99\n",
            "2025-09-23 - 112017.21\n",
            "2025-09-22 - 112736.59\n",
            "2025-09-21 - 115282.27\n",
            "2025-09-20 - 115752.40\n",
            "2025-09-19 - 115690.55\n",
            "2025-09-18 - 117117.99\n",
            "2025-09-17 - 116484.40\n",
            "2025-09-16 - 116832.56\n",
            "2025-09-15 - 115381.08\n",
            "2025-09-14 - 115314.13\n",
            "2025-09-13 - 115968.35\n",
            "2025-09-12 - 116106.03\n",
            "2025-09-11 - 115540.00\n",
            "2025-09-10 - 113983.97\n",
            "2025-09-09 - 111549.32\n",
            "2025-09-08 - 112072.57\n",
            "2025-09-07 - 111129.61\n",
            "2025-09-06 - 110212.60\n",
            "2025-09-05 - 110670.02\n",
            "2025-09-04 - 110720.79\n",
            "2025-09-03 - 111756.41\n",
            "2025-09-02 - 111247.94\n",
            "2025-09-01 - 109240.55\n",
            "2025-08-31 - 108247.95\n",
            "2025-08-30 - 108827.93\n",
            "2025-08-29 - 108378.32\n",
            "2025-08-28 - 112574.85\n",
            "2025-08-27 - 111253.21\n",
            "2025-08-26 - 111788.01\n",
            "2025-08-25 - 110127.74\n",
            "2025-08-24 - 113478.00\n",
            "2025-08-23 - 115383.87\n",
            "2025-08-22 - 116908.68\n",
            "2025-08-21 - 112480.30\n",
            "2025-08-20 - 114276.00\n",
            "2025-08-19 - 112856.19\n",
            "2025-08-18 - 116286.76\n",
            "2025-08-17 - 117488.60\n",
            "2025-08-16 - 117455.68\n",
            "2025-08-15 - 117436.96\n",
            "2025-08-14 - 118389.79\n",
            "2025-08-13 - 123365.63\n",
            "2025-08-12 - 120113.18\n",
            "2025-08-11 - 118701.84\n",
            "2025-08-10 - 119309.37\n",
            "2025-08-09 - 116492.51\n",
            "2025-08-08 - 116683.79\n",
            "2025-08-07 - 117515.49\n",
            "2025-08-06 - 115028.83\n",
            "2025-08-05 - 114112.95\n",
            "2025-08-04 - 115051.85\n",
            "2025-08-03 - 114215.73\n",
            "2025-08-02 - 112542.74\n",
            "2025-08-01 - 113248.73\n",
            "2025-07-31 - 115761.13\n",
            "2025-07-30 - 117830.15\n",
            "2025-07-29 - 117933.39\n",
            "2025-07-28 - 118070.59\n",
            "2025-07-27 - 119465.52\n",
            "\u001b[00m\n",
            "\u001b[32;1m\u001b[1;3mThought: I now know the final answer\n",
            "\n",
            "The historical prices for Bitcoin (BTC) over the past 60 days show a volatile trend with fluctuations in both directions. The prices have ranged from a low of 108247.95 on August 31, 2025, to a high of 123365.63 on August 13, 2025. The recent trend suggests a slight upward momentum, with the price increasing from 109240.55 on September 1, 2025, to 112293.99 on September 24, 2025. However, the overall trend is still uncertain, and further analysis is required to make a definitive prediction.\n",
            "\n",
            "Final Answer:\n",
            "\n",
            "The current market trend for Bitcoin (BTC) is uncertain, but the recent upward momentum suggests a slight increase in the price. However, considering the overall volatility and fluctuations in the past 60 days, it is difficult to make a definitive prediction. Therefore, the prediction for the future trend is neutral, with a slight bias towards an upward movement.\u001b[0m\n",
            "\n",
            "\u001b[1m> Finished chain.\u001b[0m\n",
            "\u001b[1m\u001b[92m [DEBUG]: == [Cryptocurrency Price Analyst] Task output: The current market trend for Bitcoin (BTC) is uncertain, but the recent upward momentum suggests a slight increase in the price. However, considering the overall volatility and fluctuations in the past 60 days, it is difficult to make a definitive prediction. Therefore, the prediction for the future trend is neutral, with a slight bias towards an upward movement.\n",
            "\n",
            "\u001b[00m\n",
            "\u001b[1m\u001b[95m [DEBUG]: == Working Agent: Cryptocurrency Report Writer\u001b[00m\n",
            "\u001b[1m\u001b[95m [INFO]: == Starting Task: Use the reports from the news analyst and the price analyst to\n",
            "    create a report that summarizes the cryptocurrency\u001b[00m\n",
            "\n",
            "\n",
            "\u001b[1m> Entering new CrewAgentExecutor chain...\u001b[0m\n",
            "\u001b[32;1m\u001b[1;3mI now have a solid foundation to create a comprehensive report on the cryptocurrency market. I will combine the insights from the news analyst and the price analyst to provide a clear and concise summary of the current market trend and predict the future prices for Bitcoin (BTC).\n",
            "\n",
            "Final Answer:\n",
            "\n",
            "The current market trend for Bitcoin (BTC) is a complex mix of bearish and uncertain signals. On one hand, the recent selling activity by whales, amounting to over $16 billion in the past month, is a negative signal for the market, according to experts. This selling activity is the fastest rate since the last halving event in 2024, which may indicate a downward trend in the near future. However, despite the selling, Bitcoin's price remains relatively stable, trading around $113,500. On the other hand, the recent upward momentum suggests a slight increase in the price, and the overall volatility and fluctuations in the past 60 days make it difficult to make a definitive prediction. Furthermore, the recent lawsuit against Athena Bitcoin, a Bitcoin ATM operator, for allegedly stealing copyrighted source code may also have a negative impact on the market. Considering these factors, I predict a neutral trend for Bitcoin in the near future, with a slight bias towards a downward movement due to the bearish signals. However, it is essential to note that the market is highly volatile, and prices can fluctuate rapidly. Therefore, investors should be cautious and consider multiple factors before making any investment decisions. Key points to consider:\n",
            "\n",
            "* Bearish signals: whales selling over $16 billion worth of Bitcoin in the past month\n",
            "* Uncertain signals: recent upward momentum and overall volatility\n",
            "* Negative impact: lawsuit against Athena Bitcoin\n",
            "* Predicted trend: neutral with a slight bias towards a downward movement\n",
            "* Key price: $113,500\n",
            "* Market volatility: high and unpredictable\u001b[0m\n",
            "\n",
            "\u001b[1m> Finished chain.\u001b[0m\n",
            "\u001b[1m\u001b[92m [DEBUG]: == [Cryptocurrency Report Writer] Task output: The current market trend for Bitcoin (BTC) is a complex mix of bearish and uncertain signals. On one hand, the recent selling activity by whales, amounting to over $16 billion in the past month, is a negative signal for the market, according to experts. This selling activity is the fastest rate since the last halving event in 2024, which may indicate a downward trend in the near future. However, despite the selling, Bitcoin's price remains relatively stable, trading around $113,500. On the other hand, the recent upward momentum suggests a slight increase in the price, and the overall volatility and fluctuations in the past 60 days make it difficult to make a definitive prediction. Furthermore, the recent lawsuit against Athena Bitcoin, a Bitcoin ATM operator, for allegedly stealing copyrighted source code may also have a negative impact on the market. Considering these factors, I predict a neutral trend for Bitcoin in the near future, with a slight bias towards a downward movement due to the bearish signals. However, it is essential to note that the market is highly volatile, and prices can fluctuate rapidly. Therefore, investors should be cautious and consider multiple factors before making any investment decisions. Key points to consider:\n",
            "\n",
            "* Bearish signals: whales selling over $16 billion worth of Bitcoin in the past month\n",
            "* Uncertain signals: recent upward momentum and overall volatility\n",
            "* Negative impact: lawsuit against Athena Bitcoin\n",
            "* Predicted trend: neutral with a slight bias towards a downward movement\n",
            "* Key price: $113,500\n",
            "* Market volatility: high and unpredictable\n",
            "\n",
            "\u001b[00m\n"
          ]
        }
      ]
    },
    {
      "cell_type": "code",
      "source": [],
      "metadata": {
        "id": "gxYFEQdHQ1Wp"
      },
      "execution_count": null,
      "outputs": []
    }
  ]
}